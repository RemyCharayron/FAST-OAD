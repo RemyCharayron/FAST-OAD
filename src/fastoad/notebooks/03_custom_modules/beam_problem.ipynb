{
 "cells": [
  {
   "cell_type": "markdown",
   "metadata": {},
   "source": [
    "<div class=\"row\">\n",
    "  <div class=\"column\">\n",
    "    <img src=\"./img/logo-onera.png\" width=\"200\">\n",
    "  </div>\n",
    "  <div class=\"column\">\n",
    "    <img src=\"./img/logo-ISAE_SUPAERO.png\" width=\"200\">\n",
    "  </div>\n",
    "</div>"
   ]
  },
  {
   "cell_type": "markdown",
   "metadata": {},
   "source": [
    "# Custom Modules Management\n",
    "\n",
    "This tutorial aims to guide you in the management of your customs modules and in the resolution of a simple problem using FAST-OAD. \n",
    "The problem under consideration consists in a cantilever beam of length **L** and whose plain rectangular section is described by its height **h** and width **l**. A force **F** is applied at the tip of the beam that also undergoes its proper weight homogeneously distributed **w**. \n",
    "\n",
    "The objectives this tutorial will be to create and call custom modules through FAST-OAD to solve the following problems:\n",
    "* For **F** = 1000N, **L** = 2.0m, **l** = 0.3m find the height **h** that leads to a displacement of 0.02m considering an aluminium beam. \n",
    "* For **F** = 1e5N, **L** = 10.0m, **l** = 0.3m find the height **h** so that the maximum normal stress within the beam do not exceed the aluminium yield stress (450e6 Pa)."
   ]
  },
  {
   "cell_type": "markdown",
   "metadata": {},
   "source": [
    "<div class=\"row\">\n",
    "  <div class=\"column\">\n",
    "    <img src=\"./img/problem_description.png\" width=\"600\">\n",
    "  </div>\n",
    "</div>"
   ]
  },
  {
   "cell_type": "markdown",
   "metadata": {},
   "source": [
    "## Imports"
   ]
  },
  {
   "cell_type": "code",
   "execution_count": null,
   "metadata": {},
   "outputs": [],
   "source": [
    "import os.path as pth\n",
    "import logging\n",
    "import fastoad.api as oad"
   ]
  },
  {
   "cell_type": "markdown",
   "metadata": {},
   "source": [
    "## Directories and files definition "
   ]
  },
  {
   "cell_type": "code",
   "execution_count": null,
   "metadata": {},
   "outputs": [],
   "source": [
    "DATA_FOLDER = \"data\"\n",
    "\n",
    "WORK_FOLDER = \"workdir\"\n",
    "\n",
    "CONFIGURATION_FILE_NAME = pth.join(DATA_FOLDER, \"beam_problem.yml\")\n",
    "\n",
    "logging.basicConfig(level=logging.INFO, format='%(levelname)-8s: %(message)s')"
   ]
  },
  {
   "cell_type": "markdown",
   "metadata": {},
   "source": [
    "## 1. Custom Modules\n",
    "\n",
    "The following modules are created: [section_properties.py](./modules/section_properties.py), [weight.py](./modules/weight.py), [displacements.py](./modules/displacements.py), [stresses.py](./modules/stresses.py). They respectively compute the heigth of the beam for a given moment of inertia and width, the linear weight **w** from material density and section dimensions, the necessary moment of inertia to reach a given displacements and the necessary moment of inertia not to overcome yield stress. \n",
    "\n",
    "As you may notice, each module is registered using the decorator `@oad.RegisterOpenMDAOSystem`. \n",
    "\n",
    "An example is provided for a geometric module that compute the height of the beam for a given moment of inertia and a given width: \n",
    "\n",
    "<div class=\"row\">\n",
    "    <div class=\"column\">\n",
    "        <img src=\"./img/custom_module_ex.gif\" width=\"600\">\n",
    "  </div>\n",
    "</div>"
   ]
  },
  {
   "cell_type": "markdown",
   "metadata": {},
   "source": [
    "## 2. Configuration file\n",
    "Once the modules are created, the problem can be defined through the [configuration file](./data/beam_problem.yml): \n",
    "* First, the folder containing your custom module must be indicated within the `module_folders` section.\n",
    "* Then, your problem is defined within the `model` section. \n",
    "* If variables are shared between different modules (models) then loops occurs and `nonlinear_solver` and `linear_solver` must be defined, here non linear Block Gauss-Seidel and linear Direct solvers are used. \n",
    "The configuration file for the first problem is shown below. As you can notice, three different modules are called sequentially: the geometry, the weight and the displacements. As Displacements and geometry shares inputs/outputs we need to introduce solvers. "
   ]
  },
  {
   "cell_type": "markdown",
   "metadata": {},
   "source": [
    "<div class=\"row\">\n",
    "  <div class=\"column\">\n",
    "    <img src=\"./img/disp_config.gif\" width=\"800\">\n",
    "  </div>\n",
    "</div>"
   ]
  },
  {
   "cell_type": "markdown",
   "metadata": {},
   "source": [
    "Once your configuration file is generated, you can check your models connections using the n2 diagram: "
   ]
  },
  {
   "cell_type": "code",
   "execution_count": null,
   "metadata": {},
   "outputs": [],
   "source": [
    "oad.write_n2(CONFIGURATION_FILE_NAME, overwrite=True)"
   ]
  },
  {
   "cell_type": "markdown",
   "metadata": {},
   "source": [
    "<div class=\"row\">\n",
    "  <div class=\"column\">\n",
    "    <img src=\"./img/partition_tree_n2.svg\" width=\"800\">\n",
    "  </div>\n",
    "</div>"
   ]
  },
  {
   "cell_type": "markdown",
   "metadata": {},
   "source": [
    "## 3. Input file \n",
    "\n",
    "One the configuration is generated you can generate or use an already generated input file: "
   ]
  },
  {
   "cell_type": "code",
   "execution_count": null,
   "metadata": {},
   "outputs": [],
   "source": [
    "# UNCOMMENT THE FOLLOWING LINE TO GENERATE A BLANK INPUT FILE \n",
    "#oad.generate_inputs(CONFIGURATION_FILE_NAME, overwrite=True)\n",
    "INPUT_FILE_NAME = pth.join(DATA_FOLDER, \"problem_inputs.xml\")\n",
    "oad.variable_viewer(INPUT_FILE_NAME)"
   ]
  },
  {
   "cell_type": "markdown",
   "metadata": {},
   "source": [
    "## 4. Run the problem \n",
    "\n",
    "Once your configuration is defined and inputs checked, you can run the problem "
   ]
  },
  {
   "cell_type": "code",
   "execution_count": null,
   "metadata": {},
   "outputs": [],
   "source": [
    "disp_problem = oad.evaluate_problem(CONFIGURATION_FILE_NAME, overwrite=True)"
   ]
  },
  {
   "cell_type": "code",
   "execution_count": null,
   "metadata": {},
   "outputs": [],
   "source": [
    "oad.variable_viewer(disp_problem.output_file_path)"
   ]
  },
  {
   "cell_type": "markdown",
   "metadata": {},
   "source": [
    "## 5. Change models \n",
    "\n",
    "If you want to solve an other problem, for example the second one, you may have to replace one or several modules. Here again everything happens in the [configuration file](./data/beam_problem_stress.yml).\n",
    "\n",
    "You have to replace the `displacements` model by the `stresses` one as illustrated below (be sure that module id has been updated accordingly). You may save the configuration under another name to solve the two problem consecutively.\n",
    "\n",
    "<div class=\"row\">\n",
    "  <div class=\"column\">\n",
    "    <img src=\"./img/stress_config.gif\" width=\"800\">\n",
    "  </div>\n",
    "</div>\n",
    "\n",
    "Then generate the input file and update the input date if necessary. "
   ]
  },
  {
   "cell_type": "code",
   "execution_count": null,
   "metadata": {},
   "outputs": [],
   "source": [
    "CONFIGURATION_FILE_STRESS_NAME = pth.join(DATA_FOLDER, \"beam_problem_stress.yml\")\n",
    "# UNCOMMENT THE FOLLOWING LINE TO GENERATE A BLANK INPUT FILE \n",
    "#oad.generate_inputs(CONFIGURATION_FILE_STRESS_NAME, overwrite=True)\n",
    "INPUT_FILE_NAME = pth.join(DATA_FOLDER, \"problem_inputs_stress.xml\")\n",
    "oad.variable_viewer(INPUT_FILE_NAME)"
   ]
  },
  {
   "cell_type": "code",
   "execution_count": null,
   "metadata": {},
   "outputs": [],
   "source": [
    "stress_problem = oad.evaluate_problem(CONFIGURATION_FILE_STRESS_NAME, overwrite=True)"
   ]
  },
  {
   "cell_type": "code",
   "execution_count": null,
   "metadata": {},
   "outputs": [],
   "source": [
    "oad.variable_viewer(stress_problem.output_file_path)"
   ]
  }
 ],
 "metadata": {
  "kernelspec": {
   "display_name": "Python 3",
   "language": "python",
   "name": "python3"
  },
  "language_info": {
   "codemirror_mode": {
    "name": "ipython",
    "version": 3
   },
   "file_extension": ".py",
   "mimetype": "text/x-python",
   "name": "python",
   "nbconvert_exporter": "python",
   "pygments_lexer": "ipython3",
   "version": "3.7.6"
  }
 },
 "nbformat": 4,
 "nbformat_minor": 4
}
